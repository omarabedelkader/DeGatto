{
 "cells": [
  {
   "cell_type": "markdown",
   "id": "6541a1a5",
   "metadata": {
    "papermill": {
     "duration": 0.019972,
     "end_time": "2021-11-22T23:58:50.308527",
     "exception": false,
     "start_time": "2021-11-22T23:58:50.288555",
     "status": "completed"
    },
    "tags": []
   },
   "source": [
    "# Introduction\n",
    "\n",
    "This notebook will demonstrate how to perform a sentimental analysis using different Deep Learning techniques. As a beginner with Deep Learning Techniques for NLP, I won't use the most sophisticated techniques available out there. However, I'll explain the basics needed to face an NLP project. \n",
    "\n",
    "The data that I will be working with in this notebook will be from a Women's Clothing E-Commerce store revolving around the reviews written by customers on their different products. If you want to know more about it, you can click here.\n",
    "\n",
    "## Acknowledgment \n",
    "\n",
    "I want to recognize MR_KNOWNOTHING for his fantastic contribution to NLP's topic in Kaggle's community. Here are a couple of his kernels that I recommend to everyone to check out:\n",
    "\n",
    "* https://www.kaggle.com/tanulsingh077/deep-learning-for-nlp-zero-to-transformers-bert\n",
    "\n",
    "* https://www.kaggle.com/tanulsingh077/twitter-sentiment-extaction-analysis-eda-and-model\n",
    "\n",
    "## About this notebook\n",
    "\n",
    "For this project, I'll show the performance of the Recurrent Neural Networks (RNN) and Long Short Term Memory networks (LSTM's) techniques for NPL. Previous to that, I'll display a simple EDA to understand the basics of the dataset and preprocess it for the models."
   ]
  },
  {
   "cell_type": "code",
   "execution_count": 1,
   "id": "00123aec",
   "metadata": {
    "execution": {
     "iopub.execute_input": "2021-11-22T23:58:50.353423Z",
     "iopub.status.busy": "2021-11-22T23:58:50.352178Z",
     "iopub.status.idle": "2021-11-22T23:58:50.672984Z",
     "shell.execute_reply": "2021-11-22T23:58:50.672335Z"
    },
    "papermill": {
     "duration": 0.342819,
     "end_time": "2021-11-22T23:58:50.673154",
     "exception": false,
     "start_time": "2021-11-22T23:58:50.330335",
     "status": "completed"
    },
    "tags": []
   },
   "outputs": [
    {
     "data": {
      "text/html": [
       "<div>\n",
       "<style scoped>\n",
       "    .dataframe tbody tr th:only-of-type {\n",
       "        vertical-align: middle;\n",
       "    }\n",
       "\n",
       "    .dataframe tbody tr th {\n",
       "        vertical-align: top;\n",
       "    }\n",
       "\n",
       "    .dataframe thead th {\n",
       "        text-align: right;\n",
       "    }\n",
       "</style>\n",
       "<table border=\"1\" class=\"dataframe\">\n",
       "  <thead>\n",
       "    <tr style=\"text-align: right;\">\n",
       "      <th></th>\n",
       "      <th>Unnamed: 0</th>\n",
       "      <th>Clothing ID</th>\n",
       "      <th>Age</th>\n",
       "      <th>Title</th>\n",
       "      <th>Review Text</th>\n",
       "      <th>Rating</th>\n",
       "      <th>Recommended IND</th>\n",
       "      <th>Positive Feedback Count</th>\n",
       "      <th>Division Name</th>\n",
       "      <th>Department Name</th>\n",
       "      <th>Class Name</th>\n",
       "    </tr>\n",
       "  </thead>\n",
       "  <tbody>\n",
       "    <tr>\n",
       "      <th>0</th>\n",
       "      <td>0</td>\n",
       "      <td>767</td>\n",
       "      <td>33</td>\n",
       "      <td>NaN</td>\n",
       "      <td>Absolutely wonderful - silky and sexy and comf...</td>\n",
       "      <td>4</td>\n",
       "      <td>1</td>\n",
       "      <td>0</td>\n",
       "      <td>Initmates</td>\n",
       "      <td>Intimate</td>\n",
       "      <td>Intimates</td>\n",
       "    </tr>\n",
       "    <tr>\n",
       "      <th>1</th>\n",
       "      <td>1</td>\n",
       "      <td>1080</td>\n",
       "      <td>34</td>\n",
       "      <td>NaN</td>\n",
       "      <td>Love this dress!  it's sooo pretty.  i happene...</td>\n",
       "      <td>5</td>\n",
       "      <td>1</td>\n",
       "      <td>4</td>\n",
       "      <td>General</td>\n",
       "      <td>Dresses</td>\n",
       "      <td>Dresses</td>\n",
       "    </tr>\n",
       "    <tr>\n",
       "      <th>2</th>\n",
       "      <td>2</td>\n",
       "      <td>1077</td>\n",
       "      <td>60</td>\n",
       "      <td>Some major design flaws</td>\n",
       "      <td>I had such high hopes for this dress and reall...</td>\n",
       "      <td>3</td>\n",
       "      <td>0</td>\n",
       "      <td>0</td>\n",
       "      <td>General</td>\n",
       "      <td>Dresses</td>\n",
       "      <td>Dresses</td>\n",
       "    </tr>\n",
       "    <tr>\n",
       "      <th>3</th>\n",
       "      <td>3</td>\n",
       "      <td>1049</td>\n",
       "      <td>50</td>\n",
       "      <td>My favorite buy!</td>\n",
       "      <td>I love, love, love this jumpsuit. it's fun, fl...</td>\n",
       "      <td>5</td>\n",
       "      <td>1</td>\n",
       "      <td>0</td>\n",
       "      <td>General Petite</td>\n",
       "      <td>Bottoms</td>\n",
       "      <td>Pants</td>\n",
       "    </tr>\n",
       "    <tr>\n",
       "      <th>4</th>\n",
       "      <td>4</td>\n",
       "      <td>847</td>\n",
       "      <td>47</td>\n",
       "      <td>Flattering shirt</td>\n",
       "      <td>This shirt is very flattering to all due to th...</td>\n",
       "      <td>5</td>\n",
       "      <td>1</td>\n",
       "      <td>6</td>\n",
       "      <td>General</td>\n",
       "      <td>Tops</td>\n",
       "      <td>Blouses</td>\n",
       "    </tr>\n",
       "  </tbody>\n",
       "</table>\n",
       "</div>"
      ],
      "text/plain": [
       "   Unnamed: 0  Clothing ID  Age                    Title  \\\n",
       "0           0          767   33                      NaN   \n",
       "1           1         1080   34                      NaN   \n",
       "2           2         1077   60  Some major design flaws   \n",
       "3           3         1049   50         My favorite buy!   \n",
       "4           4          847   47         Flattering shirt   \n",
       "\n",
       "                                         Review Text  Rating  Recommended IND  \\\n",
       "0  Absolutely wonderful - silky and sexy and comf...       4                1   \n",
       "1  Love this dress!  it's sooo pretty.  i happene...       5                1   \n",
       "2  I had such high hopes for this dress and reall...       3                0   \n",
       "3  I love, love, love this jumpsuit. it's fun, fl...       5                1   \n",
       "4  This shirt is very flattering to all due to th...       5                1   \n",
       "\n",
       "   Positive Feedback Count   Division Name Department Name Class Name  \n",
       "0                        0       Initmates        Intimate  Intimates  \n",
       "1                        4         General         Dresses    Dresses  \n",
       "2                        0         General         Dresses    Dresses  \n",
       "3                        0  General Petite         Bottoms      Pants  \n",
       "4                        6         General            Tops    Blouses  "
      ]
     },
     "execution_count": 1,
     "metadata": {},
     "output_type": "execute_result"
    }
   ],
   "source": [
    "# Importing necessary libraries for preprocessing & EDA\n",
    "import numpy as np \n",
    "import pandas as pd \n",
    "from plotly import graph_objs as go\n",
    "\n",
    "# Ignore  the warnings\n",
    "import warnings\n",
    "warnings.filterwarnings('always')\n",
    "warnings.filterwarnings('ignore')\n",
    "\n",
    "df = pd.read_csv('../input/womens-ecommerce-clothing-reviews/Womens Clothing E-Commerce Reviews.csv')\n",
    "df.head()"
   ]
  },
  {
   "cell_type": "code",
   "execution_count": 2,
   "id": "6963d9e1",
   "metadata": {
    "execution": {
     "iopub.execute_input": "2021-11-22T23:58:50.717921Z",
     "iopub.status.busy": "2021-11-22T23:58:50.717325Z",
     "iopub.status.idle": "2021-11-22T23:58:50.783609Z",
     "shell.execute_reply": "2021-11-22T23:58:50.784082Z"
    },
    "papermill": {
     "duration": 0.089174,
     "end_time": "2021-11-22T23:58:50.784282",
     "exception": false,
     "start_time": "2021-11-22T23:58:50.695108",
     "status": "completed"
    },
    "tags": []
   },
   "outputs": [
    {
     "name": "stdout",
     "output_type": "stream",
     "text": [
      "There are 23486 reviews in this dataset\n",
      "Number of Duplicates: 21\n",
      "Number of Missing Values: 4697\n"
     ]
    }
   ],
   "source": [
    "# Remove columns\n",
    "del df['Unnamed: 0']\n",
    "\n",
    "# How many reviews do we have?\n",
    "print('There are', df.shape[0], 'reviews in this dataset')\n",
    "\n",
    "# Do we have duplicates?\n",
    "print('Number of Duplicates:', len(df[df.duplicated()]))\n",
    "\n",
    "# Do we have missing values?\n",
    "print('Number of Missing Values:', df.isnull().sum().sum())"
   ]
  },
  {
   "cell_type": "code",
   "execution_count": 3,
   "id": "a9a7eb65",
   "metadata": {
    "execution": {
     "iopub.execute_input": "2021-11-22T23:58:50.843412Z",
     "iopub.status.busy": "2021-11-22T23:58:50.842220Z",
     "iopub.status.idle": "2021-11-22T23:58:50.850650Z",
     "shell.execute_reply": "2021-11-22T23:58:50.851220Z"
    },
    "papermill": {
     "duration": 0.047197,
     "end_time": "2021-11-22T23:58:50.851411",
     "exception": false,
     "start_time": "2021-11-22T23:58:50.804214",
     "status": "completed"
    },
    "tags": []
   },
   "outputs": [
    {
     "name": "stdout",
     "output_type": "stream",
     "text": [
      "Number of Missing Values per column:\n"
     ]
    },
    {
     "data": {
      "text/plain": [
       "Title                      3810\n",
       "Review Text                 845\n",
       "Division Name                14\n",
       "Department Name              14\n",
       "Class Name                   14\n",
       "Clothing ID                   0\n",
       "Age                           0\n",
       "Rating                        0\n",
       "Recommended IND               0\n",
       "Positive Feedback Count       0\n",
       "dtype: int64"
      ]
     },
     "execution_count": 3,
     "metadata": {},
     "output_type": "execute_result"
    }
   ],
   "source": [
    "print('Number of Missing Values per column:')\n",
    "df.isnull().sum().sort_values(ascending=False)"
   ]
  },
  {
   "cell_type": "markdown",
   "id": "88482be4",
   "metadata": {
    "papermill": {
     "duration": 0.020327,
     "end_time": "2021-11-22T23:58:50.892348",
     "exception": false,
     "start_time": "2021-11-22T23:58:50.872021",
     "status": "completed"
    },
    "tags": []
   },
   "source": [
    "I'll remove the rows with nulls of every column except the <code>Title</code> feature."
   ]
  },
  {
   "cell_type": "code",
   "execution_count": 4,
   "id": "8e359cee",
   "metadata": {
    "execution": {
     "iopub.execute_input": "2021-11-22T23:58:50.940206Z",
     "iopub.status.busy": "2021-11-22T23:58:50.939196Z",
     "iopub.status.idle": "2021-11-22T23:58:50.959036Z",
     "shell.execute_reply": "2021-11-22T23:58:50.959568Z"
    },
    "papermill": {
     "duration": 0.046558,
     "end_time": "2021-11-22T23:58:50.959749",
     "exception": false,
     "start_time": "2021-11-22T23:58:50.913191",
     "status": "completed"
    },
    "tags": []
   },
   "outputs": [],
   "source": [
    "# Remove rows with nulls in specific columns\n",
    "df = df.dropna(subset = ['Review Text', 'Division Name', 'Department Name', 'Class Name'])"
   ]
  },
  {
   "cell_type": "markdown",
   "id": "993ab85a",
   "metadata": {
    "papermill": {
     "duration": 0.020262,
     "end_time": "2021-11-22T23:58:51.000719",
     "exception": false,
     "start_time": "2021-11-22T23:58:50.980457",
     "status": "completed"
    },
    "tags": []
   },
   "source": [
    "# EDA"
   ]
  },
  {
   "cell_type": "code",
   "execution_count": 5,
   "id": "72baa9ad",
   "metadata": {
    "execution": {
     "iopub.execute_input": "2021-11-22T23:58:51.045824Z",
     "iopub.status.busy": "2021-11-22T23:58:51.044845Z",
     "iopub.status.idle": "2021-11-22T23:58:51.208113Z",
     "shell.execute_reply": "2021-11-22T23:58:51.208635Z"
    },
    "papermill": {
     "duration": 0.187466,
     "end_time": "2021-11-22T23:58:51.208808",
     "exception": false,
     "start_time": "2021-11-22T23:58:51.021342",
     "status": "completed"
    },
    "tags": []
   },
   "outputs": [
    {
     "data": {
      "text/html": [
       "        <script type=\"text/javascript\">\n",
       "        window.PlotlyConfig = {MathJaxConfig: 'local'};\n",
       "        if (window.MathJax) {MathJax.Hub.Config({SVG: {font: \"STIX-Web\"}});}\n",
       "        if (typeof require !== 'undefined') {\n",
       "        require.undef(\"plotly\");\n",
       "        requirejs.config({\n",
       "            paths: {\n",
       "                'plotly': ['https://cdn.plot.ly/plotly-2.4.2.min']\n",
       "            }\n",
       "        });\n",
       "        require(['plotly'], function(Plotly) {\n",
       "            window._Plotly = Plotly;\n",
       "        });\n",
       "        }\n",
       "        </script>\n",
       "        "
      ]
     },
     "metadata": {},
     "output_type": "display_data"
    },
    {
     "data": {
      "text/html": [
       "<div>                            <div id=\"c2fc85b8-23b1-4584-b47d-23b7edc2fc5c\" class=\"plotly-graph-div\" style=\"height:525px; width:100%;\"></div>            <script type=\"text/javascript\">                require([\"plotly\"], function(Plotly) {                    window.PLOTLYENV=window.PLOTLYENV || {};                                    if (document.getElementById(\"c2fc85b8-23b1-4584-b47d-23b7edc2fc5c\")) {                    Plotly.newPlot(                        \"c2fc85b8-23b1-4584-b47d-23b7edc2fc5c\",                        [{\"hoverinfo\":\"percent\",\"labels\":[\"No\",\"Yes\"],\"marker\":{\"colors\":[\"#f6b220\",\"#0E2F44\"],\"line\":{\"color\":\"white\",\"width\":1}},\"textfont\":{\"size\":20},\"textinfo\":\"label\",\"type\":\"pie\",\"values\":[4101,18527]}],                        {\"font\":{\"color\":\"#000000\",\"family\":\"Rockwell, sans-serif\",\"size\":25},\"showlegend\":false,\"template\":{\"data\":{\"bar\":[{\"error_x\":{\"color\":\"#2a3f5f\"},\"error_y\":{\"color\":\"#2a3f5f\"},\"marker\":{\"line\":{\"color\":\"#E5ECF6\",\"width\":0.5},\"pattern\":{\"fillmode\":\"overlay\",\"size\":10,\"solidity\":0.2}},\"type\":\"bar\"}],\"barpolar\":[{\"marker\":{\"line\":{\"color\":\"#E5ECF6\",\"width\":0.5},\"pattern\":{\"fillmode\":\"overlay\",\"size\":10,\"solidity\":0.2}},\"type\":\"barpolar\"}],\"carpet\":[{\"aaxis\":{\"endlinecolor\":\"#2a3f5f\",\"gridcolor\":\"white\",\"linecolor\":\"white\",\"minorgridcolor\":\"white\",\"startlinecolor\":\"#2a3f5f\"},\"baxis\":{\"endlinecolor\":\"#2a3f5f\",\"gridcolor\":\"white\",\"linecolor\":\"white\",\"minorgridcolor\":\"white\",\"startlinecolor\":\"#2a3f5f\"},\"type\":\"carpet\"}],\"choropleth\":[{\"colorbar\":{\"outlinewidth\":0,\"ticks\":\"\"},\"type\":\"choropleth\"}],\"contour\":[{\"colorbar\":{\"outlinewidth\":0,\"ticks\":\"\"},\"colorscale\":[[0.0,\"#0d0887\"],[0.1111111111111111,\"#46039f\"],[0.2222222222222222,\"#7201a8\"],[0.3333333333333333,\"#9c179e\"],[0.4444444444444444,\"#bd3786\"],[0.5555555555555556,\"#d8576b\"],[0.6666666666666666,\"#ed7953\"],[0.7777777777777778,\"#fb9f3a\"],[0.8888888888888888,\"#fdca26\"],[1.0,\"#f0f921\"]],\"type\":\"contour\"}],\"contourcarpet\":[{\"colorbar\":{\"outlinewidth\":0,\"ticks\":\"\"},\"type\":\"contourcarpet\"}],\"heatmap\":[{\"colorbar\":{\"outlinewidth\":0,\"ticks\":\"\"},\"colorscale\":[[0.0,\"#0d0887\"],[0.1111111111111111,\"#46039f\"],[0.2222222222222222,\"#7201a8\"],[0.3333333333333333,\"#9c179e\"],[0.4444444444444444,\"#bd3786\"],[0.5555555555555556,\"#d8576b\"],[0.6666666666666666,\"#ed7953\"],[0.7777777777777778,\"#fb9f3a\"],[0.8888888888888888,\"#fdca26\"],[1.0,\"#f0f921\"]],\"type\":\"heatmap\"}],\"heatmapgl\":[{\"colorbar\":{\"outlinewidth\":0,\"ticks\":\"\"},\"colorscale\":[[0.0,\"#0d0887\"],[0.1111111111111111,\"#46039f\"],[0.2222222222222222,\"#7201a8\"],[0.3333333333333333,\"#9c179e\"],[0.4444444444444444,\"#bd3786\"],[0.5555555555555556,\"#d8576b\"],[0.6666666666666666,\"#ed7953\"],[0.7777777777777778,\"#fb9f3a\"],[0.8888888888888888,\"#fdca26\"],[1.0,\"#f0f921\"]],\"type\":\"heatmapgl\"}],\"histogram\":[{\"marker\":{\"pattern\":{\"fillmode\":\"overlay\",\"size\":10,\"solidity\":0.2}},\"type\":\"histogram\"}],\"histogram2d\":[{\"colorbar\":{\"outlinewidth\":0,\"ticks\":\"\"},\"colorscale\":[[0.0,\"#0d0887\"],[0.1111111111111111,\"#46039f\"],[0.2222222222222222,\"#7201a8\"],[0.3333333333333333,\"#9c179e\"],[0.4444444444444444,\"#bd3786\"],[0.5555555555555556,\"#d8576b\"],[0.6666666666666666,\"#ed7953\"],[0.7777777777777778,\"#fb9f3a\"],[0.8888888888888888,\"#fdca26\"],[1.0,\"#f0f921\"]],\"type\":\"histogram2d\"}],\"histogram2dcontour\":[{\"colorbar\":{\"outlinewidth\":0,\"ticks\":\"\"},\"colorscale\":[[0.0,\"#0d0887\"],[0.1111111111111111,\"#46039f\"],[0.2222222222222222,\"#7201a8\"],[0.3333333333333333,\"#9c179e\"],[0.4444444444444444,\"#bd3786\"],[0.5555555555555556,\"#d8576b\"],[0.6666666666666666,\"#ed7953\"],[0.7777777777777778,\"#fb9f3a\"],[0.8888888888888888,\"#fdca26\"],[1.0,\"#f0f921\"]],\"type\":\"histogram2dcontour\"}],\"mesh3d\":[{\"colorbar\":{\"outlinewidth\":0,\"ticks\":\"\"},\"type\":\"mesh3d\"}],\"parcoords\":[{\"line\":{\"colorbar\":{\"outlinewidth\":0,\"ticks\":\"\"}},\"type\":\"parcoords\"}],\"pie\":[{\"automargin\":true,\"type\":\"pie\"}],\"scatter\":[{\"marker\":{\"colorbar\":{\"outlinewidth\":0,\"ticks\":\"\"}},\"type\":\"scatter\"}],\"scatter3d\":[{\"line\":{\"colorbar\":{\"outlinewidth\":0,\"ticks\":\"\"}},\"marker\":{\"colorbar\":{\"outlinewidth\":0,\"ticks\":\"\"}},\"type\":\"scatter3d\"}],\"scattercarpet\":[{\"marker\":{\"colorbar\":{\"outlinewidth\":0,\"ticks\":\"\"}},\"type\":\"scattercarpet\"}],\"scattergeo\":[{\"marker\":{\"colorbar\":{\"outlinewidth\":0,\"ticks\":\"\"}},\"type\":\"scattergeo\"}],\"scattergl\":[{\"marker\":{\"colorbar\":{\"outlinewidth\":0,\"ticks\":\"\"}},\"type\":\"scattergl\"}],\"scattermapbox\":[{\"marker\":{\"colorbar\":{\"outlinewidth\":0,\"ticks\":\"\"}},\"type\":\"scattermapbox\"}],\"scatterpolar\":[{\"marker\":{\"colorbar\":{\"outlinewidth\":0,\"ticks\":\"\"}},\"type\":\"scatterpolar\"}],\"scatterpolargl\":[{\"marker\":{\"colorbar\":{\"outlinewidth\":0,\"ticks\":\"\"}},\"type\":\"scatterpolargl\"}],\"scatterternary\":[{\"marker\":{\"colorbar\":{\"outlinewidth\":0,\"ticks\":\"\"}},\"type\":\"scatterternary\"}],\"surface\":[{\"colorbar\":{\"outlinewidth\":0,\"ticks\":\"\"},\"colorscale\":[[0.0,\"#0d0887\"],[0.1111111111111111,\"#46039f\"],[0.2222222222222222,\"#7201a8\"],[0.3333333333333333,\"#9c179e\"],[0.4444444444444444,\"#bd3786\"],[0.5555555555555556,\"#d8576b\"],[0.6666666666666666,\"#ed7953\"],[0.7777777777777778,\"#fb9f3a\"],[0.8888888888888888,\"#fdca26\"],[1.0,\"#f0f921\"]],\"type\":\"surface\"}],\"table\":[{\"cells\":{\"fill\":{\"color\":\"#EBF0F8\"},\"line\":{\"color\":\"white\"}},\"header\":{\"fill\":{\"color\":\"#C8D4E3\"},\"line\":{\"color\":\"white\"}},\"type\":\"table\"}]},\"layout\":{\"annotationdefaults\":{\"arrowcolor\":\"#2a3f5f\",\"arrowhead\":0,\"arrowwidth\":1},\"autotypenumbers\":\"strict\",\"coloraxis\":{\"colorbar\":{\"outlinewidth\":0,\"ticks\":\"\"}},\"colorscale\":{\"diverging\":[[0,\"#8e0152\"],[0.1,\"#c51b7d\"],[0.2,\"#de77ae\"],[0.3,\"#f1b6da\"],[0.4,\"#fde0ef\"],[0.5,\"#f7f7f7\"],[0.6,\"#e6f5d0\"],[0.7,\"#b8e186\"],[0.8,\"#7fbc41\"],[0.9,\"#4d9221\"],[1,\"#276419\"]],\"sequential\":[[0.0,\"#0d0887\"],[0.1111111111111111,\"#46039f\"],[0.2222222222222222,\"#7201a8\"],[0.3333333333333333,\"#9c179e\"],[0.4444444444444444,\"#bd3786\"],[0.5555555555555556,\"#d8576b\"],[0.6666666666666666,\"#ed7953\"],[0.7777777777777778,\"#fb9f3a\"],[0.8888888888888888,\"#fdca26\"],[1.0,\"#f0f921\"]],\"sequentialminus\":[[0.0,\"#0d0887\"],[0.1111111111111111,\"#46039f\"],[0.2222222222222222,\"#7201a8\"],[0.3333333333333333,\"#9c179e\"],[0.4444444444444444,\"#bd3786\"],[0.5555555555555556,\"#d8576b\"],[0.6666666666666666,\"#ed7953\"],[0.7777777777777778,\"#fb9f3a\"],[0.8888888888888888,\"#fdca26\"],[1.0,\"#f0f921\"]]},\"colorway\":[\"#636efa\",\"#EF553B\",\"#00cc96\",\"#ab63fa\",\"#FFA15A\",\"#19d3f3\",\"#FF6692\",\"#B6E880\",\"#FF97FF\",\"#FECB52\"],\"font\":{\"color\":\"#2a3f5f\"},\"geo\":{\"bgcolor\":\"white\",\"lakecolor\":\"white\",\"landcolor\":\"#E5ECF6\",\"showlakes\":true,\"showland\":true,\"subunitcolor\":\"white\"},\"hoverlabel\":{\"align\":\"left\"},\"hovermode\":\"closest\",\"mapbox\":{\"style\":\"light\"},\"paper_bgcolor\":\"white\",\"plot_bgcolor\":\"#E5ECF6\",\"polar\":{\"angularaxis\":{\"gridcolor\":\"white\",\"linecolor\":\"white\",\"ticks\":\"\"},\"bgcolor\":\"#E5ECF6\",\"radialaxis\":{\"gridcolor\":\"white\",\"linecolor\":\"white\",\"ticks\":\"\"}},\"scene\":{\"xaxis\":{\"backgroundcolor\":\"#E5ECF6\",\"gridcolor\":\"white\",\"gridwidth\":2,\"linecolor\":\"white\",\"showbackground\":true,\"ticks\":\"\",\"zerolinecolor\":\"white\"},\"yaxis\":{\"backgroundcolor\":\"#E5ECF6\",\"gridcolor\":\"white\",\"gridwidth\":2,\"linecolor\":\"white\",\"showbackground\":true,\"ticks\":\"\",\"zerolinecolor\":\"white\"},\"zaxis\":{\"backgroundcolor\":\"#E5ECF6\",\"gridcolor\":\"white\",\"gridwidth\":2,\"linecolor\":\"white\",\"showbackground\":true,\"ticks\":\"\",\"zerolinecolor\":\"white\"}},\"shapedefaults\":{\"line\":{\"color\":\"#2a3f5f\"}},\"ternary\":{\"aaxis\":{\"gridcolor\":\"white\",\"linecolor\":\"white\",\"ticks\":\"\"},\"baxis\":{\"gridcolor\":\"white\",\"linecolor\":\"white\",\"ticks\":\"\"},\"bgcolor\":\"#E5ECF6\",\"caxis\":{\"gridcolor\":\"white\",\"linecolor\":\"white\",\"ticks\":\"\"}},\"title\":{\"x\":0.05},\"xaxis\":{\"automargin\":true,\"gridcolor\":\"white\",\"linecolor\":\"white\",\"ticks\":\"\",\"title\":{\"standoff\":15},\"zerolinecolor\":\"white\",\"zerolinewidth\":2},\"yaxis\":{\"automargin\":true,\"gridcolor\":\"white\",\"linecolor\":\"white\",\"ticks\":\"\",\"title\":{\"standoff\":15},\"zerolinecolor\":\"white\",\"zerolinewidth\":2}}},\"title\":{\"text\":\"<b>Recommended</b> Distribution\",\"x\":0.5}},                        {\"responsive\": true}                    ).then(function(){\n",
       "                            \n",
       "var gd = document.getElementById('c2fc85b8-23b1-4584-b47d-23b7edc2fc5c');\n",
       "var x = new MutationObserver(function (mutations, observer) {{\n",
       "        var display = window.getComputedStyle(gd).display;\n",
       "        if (!display || display === 'none') {{\n",
       "            console.log([gd, 'removed!']);\n",
       "            Plotly.purge(gd);\n",
       "            observer.disconnect();\n",
       "        }}\n",
       "}});\n",
       "\n",
       "// Listen for the removal of the full notebook cells\n",
       "var notebookContainer = gd.closest('#notebook-container');\n",
       "if (notebookContainer) {{\n",
       "    x.observe(notebookContainer, {childList: true});\n",
       "}}\n",
       "\n",
       "// Listen for the clearing of the current output cell\n",
       "var outputEl = gd.closest('.output');\n",
       "if (outputEl) {{\n",
       "    x.observe(outputEl, {childList: true});\n",
       "}}\n",
       "\n",
       "                        })                };                });            </script>        </div>"
      ]
     },
     "metadata": {},
     "output_type": "display_data"
    }
   ],
   "source": [
    "recommended = (\n",
    "    df['Recommended IND']\n",
    "    .value_counts()\n",
    "    .to_frame()\n",
    "    .reset_index()\n",
    "    .rename(columns={'index':'Recommended', 'Recommended IND':'Count'})\n",
    "    .sort_values(by=['Recommended'], ascending=True)\n",
    "    .replace([0, 1], ['No', 'Yes'])   \n",
    "          )  \n",
    "\n",
    "colors = ['#f6b220','#0E2F44']\n",
    "\n",
    "fig = go.Figure(data=[go.Pie(labels=recommended['Recommended'], \n",
    "                             values=recommended['Count'])])\n",
    "\n",
    "fig.update_traces(hoverinfo='percent', \n",
    "                  textinfo='label', \n",
    "                  textfont_size=20,\n",
    "                  marker=dict(colors=colors, \n",
    "                              line=dict(color='white', width=1)))\n",
    "\n",
    "fig.update_layout(showlegend=False, \n",
    "                  title_text=\"<b>Recommended</b> Distribution\",\n",
    "                  title_x=0.5,\n",
    "                  font=dict(family=\"Rockwell, sans-serif\", size=25, color='#000000'))\n",
    "\n",
    "fig.show()"
   ]
  },
  {
   "cell_type": "markdown",
   "id": "516e16e5",
   "metadata": {
    "papermill": {
     "duration": 0.021517,
     "end_time": "2021-11-22T23:58:51.252519",
     "exception": false,
     "start_time": "2021-11-22T23:58:51.231002",
     "status": "completed"
    },
    "tags": []
   },
   "source": [
    "The majority of the reviews are positive and recommend the product they purchase."
   ]
  },
  {
   "cell_type": "code",
   "execution_count": 6,
   "id": "3d737712",
   "metadata": {
    "execution": {
     "iopub.execute_input": "2021-11-22T23:58:51.300414Z",
     "iopub.status.busy": "2021-11-22T23:58:51.299705Z",
     "iopub.status.idle": "2021-11-22T23:58:51.383382Z",
     "shell.execute_reply": "2021-11-22T23:58:51.383898Z"
    },
    "papermill": {
     "duration": 0.109261,
     "end_time": "2021-11-22T23:58:51.384070",
     "exception": false,
     "start_time": "2021-11-22T23:58:51.274809",
     "status": "completed"
    },
    "tags": []
   },
   "outputs": [
    {
     "data": {
      "text/html": [
       "<div>                            <div id=\"661f80cd-041b-4b61-8a16-6eb29b5ca486\" class=\"plotly-graph-div\" style=\"height:800px; width:680px;\"></div>            <script type=\"text/javascript\">                require([\"plotly\"], function(Plotly) {                    window.PLOTLYENV=window.PLOTLYENV || {};                                    if (document.getElementById(\"661f80cd-041b-4b61-8a16-6eb29b5ca486\")) {                    Plotly.newPlot(                        \"661f80cd-041b-4b61-8a16-6eb29b5ca486\",                        [{\"marker\":{\"color\":\"#f6b220\"},\"name\":\"Not Recommended\",\"orientation\":\"h\",\"type\":\"bar\",\"x\":[0.1934294334562521,null,null,0.19479251423921887,0.1671388101983003,0.14285714285714285,0.15666178623718888,0.12047101449275362,0.18763510592304367,0.12121212121212122,0.14556962025316456,0.14200298953662183,0.18808777429467086,0.1674074074074074,0.1611842105263158,0.1583610188261351,0.14485981308411214,0.2028985507246377,0.20481927710843373,0.2542372881355932],\"y\":[\"Blouses\",\"Casual bottoms\",\"Chemises\",\"Dresses\",\"Fine gauge\",\"Intimates\",\"Jackets\",\"Jeans\",\"Knits\",\"Layering\",\"Legwear\",\"Lounge\",\"Outerwear\",\"Pants\",\"Shorts\",\"Skirts\",\"Sleep\",\"Sweaters\",\"Swim\",\"Trend\"]},{\"marker\":{\"color\":\"#0E2F44\"},\"name\":\"Recommended\",\"orientation\":\"h\",\"type\":\"bar\",\"x\":[0.8065705665437479,1.0,1.0,0.8052074857607812,0.8328611898016998,0.8571428571428571,0.8433382137628112,0.8795289855072463,0.8123648940769563,0.8787878787878788,0.8544303797468354,0.8579970104633782,0.8119122257053292,0.8325925925925926,0.8388157894736842,0.8416389811738649,0.8551401869158879,0.7971014492753623,0.7951807228915663,0.7457627118644068],\"y\":[\"Blouses\",\"Casual bottoms\",\"Chemises\",\"Dresses\",\"Fine gauge\",\"Intimates\",\"Jackets\",\"Jeans\",\"Knits\",\"Layering\",\"Legwear\",\"Lounge\",\"Outerwear\",\"Pants\",\"Shorts\",\"Skirts\",\"Sleep\",\"Sweaters\",\"Swim\",\"Trend\"]}],                        {\"autosize\":false,\"barmode\":\"stack\",\"font\":{\"color\":\"#000000\",\"family\":\"Rockwell, sans-serif\",\"size\":18},\"height\":800,\"margin\":{\"b\":30,\"l\":150,\"pad\":4,\"r\":100,\"t\":100},\"template\":{\"data\":{\"bar\":[{\"error_x\":{\"color\":\"#2a3f5f\"},\"error_y\":{\"color\":\"#2a3f5f\"},\"marker\":{\"line\":{\"color\":\"#E5ECF6\",\"width\":0.5},\"pattern\":{\"fillmode\":\"overlay\",\"size\":10,\"solidity\":0.2}},\"type\":\"bar\"}],\"barpolar\":[{\"marker\":{\"line\":{\"color\":\"#E5ECF6\",\"width\":0.5},\"pattern\":{\"fillmode\":\"overlay\",\"size\":10,\"solidity\":0.2}},\"type\":\"barpolar\"}],\"carpet\":[{\"aaxis\":{\"endlinecolor\":\"#2a3f5f\",\"gridcolor\":\"white\",\"linecolor\":\"white\",\"minorgridcolor\":\"white\",\"startlinecolor\":\"#2a3f5f\"},\"baxis\":{\"endlinecolor\":\"#2a3f5f\",\"gridcolor\":\"white\",\"linecolor\":\"white\",\"minorgridcolor\":\"white\",\"startlinecolor\":\"#2a3f5f\"},\"type\":\"carpet\"}],\"choropleth\":[{\"colorbar\":{\"outlinewidth\":0,\"ticks\":\"\"},\"type\":\"choropleth\"}],\"contour\":[{\"colorbar\":{\"outlinewidth\":0,\"ticks\":\"\"},\"colorscale\":[[0.0,\"#0d0887\"],[0.1111111111111111,\"#46039f\"],[0.2222222222222222,\"#7201a8\"],[0.3333333333333333,\"#9c179e\"],[0.4444444444444444,\"#bd3786\"],[0.5555555555555556,\"#d8576b\"],[0.6666666666666666,\"#ed7953\"],[0.7777777777777778,\"#fb9f3a\"],[0.8888888888888888,\"#fdca26\"],[1.0,\"#f0f921\"]],\"type\":\"contour\"}],\"contourcarpet\":[{\"colorbar\":{\"outlinewidth\":0,\"ticks\":\"\"},\"type\":\"contourcarpet\"}],\"heatmap\":[{\"colorbar\":{\"outlinewidth\":0,\"ticks\":\"\"},\"colorscale\":[[0.0,\"#0d0887\"],[0.1111111111111111,\"#46039f\"],[0.2222222222222222,\"#7201a8\"],[0.3333333333333333,\"#9c179e\"],[0.4444444444444444,\"#bd3786\"],[0.5555555555555556,\"#d8576b\"],[0.6666666666666666,\"#ed7953\"],[0.7777777777777778,\"#fb9f3a\"],[0.8888888888888888,\"#fdca26\"],[1.0,\"#f0f921\"]],\"type\":\"heatmap\"}],\"heatmapgl\":[{\"colorbar\":{\"outlinewidth\":0,\"ticks\":\"\"},\"colorscale\":[[0.0,\"#0d0887\"],[0.1111111111111111,\"#46039f\"],[0.2222222222222222,\"#7201a8\"],[0.3333333333333333,\"#9c179e\"],[0.4444444444444444,\"#bd3786\"],[0.5555555555555556,\"#d8576b\"],[0.6666666666666666,\"#ed7953\"],[0.7777777777777778,\"#fb9f3a\"],[0.8888888888888888,\"#fdca26\"],[1.0,\"#f0f921\"]],\"type\":\"heatmapgl\"}],\"histogram\":[{\"marker\":{\"pattern\":{\"fillmode\":\"overlay\",\"size\":10,\"solidity\":0.2}},\"type\":\"histogram\"}],\"histogram2d\":[{\"colorbar\":{\"outlinewidth\":0,\"ticks\":\"\"},\"colorscale\":[[0.0,\"#0d0887\"],[0.1111111111111111,\"#46039f\"],[0.2222222222222222,\"#7201a8\"],[0.3333333333333333,\"#9c179e\"],[0.4444444444444444,\"#bd3786\"],[0.5555555555555556,\"#d8576b\"],[0.6666666666666666,\"#ed7953\"],[0.7777777777777778,\"#fb9f3a\"],[0.8888888888888888,\"#fdca26\"],[1.0,\"#f0f921\"]],\"type\":\"histogram2d\"}],\"histogram2dcontour\":[{\"colorbar\":{\"outlinewidth\":0,\"ticks\":\"\"},\"colorscale\":[[0.0,\"#0d0887\"],[0.1111111111111111,\"#46039f\"],[0.2222222222222222,\"#7201a8\"],[0.3333333333333333,\"#9c179e\"],[0.4444444444444444,\"#bd3786\"],[0.5555555555555556,\"#d8576b\"],[0.6666666666666666,\"#ed7953\"],[0.7777777777777778,\"#fb9f3a\"],[0.8888888888888888,\"#fdca26\"],[1.0,\"#f0f921\"]],\"type\":\"histogram2dcontour\"}],\"mesh3d\":[{\"colorbar\":{\"outlinewidth\":0,\"ticks\":\"\"},\"type\":\"mesh3d\"}],\"parcoords\":[{\"line\":{\"colorbar\":{\"outlinewidth\":0,\"ticks\":\"\"}},\"type\":\"parcoords\"}],\"pie\":[{\"automargin\":true,\"type\":\"pie\"}],\"scatter\":[{\"marker\":{\"colorbar\":{\"outlinewidth\":0,\"ticks\":\"\"}},\"type\":\"scatter\"}],\"scatter3d\":[{\"line\":{\"colorbar\":{\"outlinewidth\":0,\"ticks\":\"\"}},\"marker\":{\"colorbar\":{\"outlinewidth\":0,\"ticks\":\"\"}},\"type\":\"scatter3d\"}],\"scattercarpet\":[{\"marker\":{\"colorbar\":{\"outlinewidth\":0,\"ticks\":\"\"}},\"type\":\"scattercarpet\"}],\"scattergeo\":[{\"marker\":{\"colorbar\":{\"outlinewidth\":0,\"ticks\":\"\"}},\"type\":\"scattergeo\"}],\"scattergl\":[{\"marker\":{\"colorbar\":{\"outlinewidth\":0,\"ticks\":\"\"}},\"type\":\"scattergl\"}],\"scattermapbox\":[{\"marker\":{\"colorbar\":{\"outlinewidth\":0,\"ticks\":\"\"}},\"type\":\"scattermapbox\"}],\"scatterpolar\":[{\"marker\":{\"colorbar\":{\"outlinewidth\":0,\"ticks\":\"\"}},\"type\":\"scatterpolar\"}],\"scatterpolargl\":[{\"marker\":{\"colorbar\":{\"outlinewidth\":0,\"ticks\":\"\"}},\"type\":\"scatterpolargl\"}],\"scatterternary\":[{\"marker\":{\"colorbar\":{\"outlinewidth\":0,\"ticks\":\"\"}},\"type\":\"scatterternary\"}],\"surface\":[{\"colorbar\":{\"outlinewidth\":0,\"ticks\":\"\"},\"colorscale\":[[0.0,\"#0d0887\"],[0.1111111111111111,\"#46039f\"],[0.2222222222222222,\"#7201a8\"],[0.3333333333333333,\"#9c179e\"],[0.4444444444444444,\"#bd3786\"],[0.5555555555555556,\"#d8576b\"],[0.6666666666666666,\"#ed7953\"],[0.7777777777777778,\"#fb9f3a\"],[0.8888888888888888,\"#fdca26\"],[1.0,\"#f0f921\"]],\"type\":\"surface\"}],\"table\":[{\"cells\":{\"fill\":{\"color\":\"#EBF0F8\"},\"line\":{\"color\":\"white\"}},\"header\":{\"fill\":{\"color\":\"#C8D4E3\"},\"line\":{\"color\":\"white\"}},\"type\":\"table\"}]},\"layout\":{\"annotationdefaults\":{\"arrowcolor\":\"#2a3f5f\",\"arrowhead\":0,\"arrowwidth\":1},\"autotypenumbers\":\"strict\",\"coloraxis\":{\"colorbar\":{\"outlinewidth\":0,\"ticks\":\"\"}},\"colorscale\":{\"diverging\":[[0,\"#8e0152\"],[0.1,\"#c51b7d\"],[0.2,\"#de77ae\"],[0.3,\"#f1b6da\"],[0.4,\"#fde0ef\"],[0.5,\"#f7f7f7\"],[0.6,\"#e6f5d0\"],[0.7,\"#b8e186\"],[0.8,\"#7fbc41\"],[0.9,\"#4d9221\"],[1,\"#276419\"]],\"sequential\":[[0.0,\"#0d0887\"],[0.1111111111111111,\"#46039f\"],[0.2222222222222222,\"#7201a8\"],[0.3333333333333333,\"#9c179e\"],[0.4444444444444444,\"#bd3786\"],[0.5555555555555556,\"#d8576b\"],[0.6666666666666666,\"#ed7953\"],[0.7777777777777778,\"#fb9f3a\"],[0.8888888888888888,\"#fdca26\"],[1.0,\"#f0f921\"]],\"sequentialminus\":[[0.0,\"#0d0887\"],[0.1111111111111111,\"#46039f\"],[0.2222222222222222,\"#7201a8\"],[0.3333333333333333,\"#9c179e\"],[0.4444444444444444,\"#bd3786\"],[0.5555555555555556,\"#d8576b\"],[0.6666666666666666,\"#ed7953\"],[0.7777777777777778,\"#fb9f3a\"],[0.8888888888888888,\"#fdca26\"],[1.0,\"#f0f921\"]]},\"colorway\":[\"#636efa\",\"#EF553B\",\"#00cc96\",\"#ab63fa\",\"#FFA15A\",\"#19d3f3\",\"#FF6692\",\"#B6E880\",\"#FF97FF\",\"#FECB52\"],\"font\":{\"color\":\"#2a3f5f\"},\"geo\":{\"bgcolor\":\"white\",\"lakecolor\":\"white\",\"landcolor\":\"#E5ECF6\",\"showlakes\":true,\"showland\":true,\"subunitcolor\":\"white\"},\"hoverlabel\":{\"align\":\"left\"},\"hovermode\":\"closest\",\"mapbox\":{\"style\":\"light\"},\"paper_bgcolor\":\"white\",\"plot_bgcolor\":\"#E5ECF6\",\"polar\":{\"angularaxis\":{\"gridcolor\":\"white\",\"linecolor\":\"white\",\"ticks\":\"\"},\"bgcolor\":\"#E5ECF6\",\"radialaxis\":{\"gridcolor\":\"white\",\"linecolor\":\"white\",\"ticks\":\"\"}},\"scene\":{\"xaxis\":{\"backgroundcolor\":\"#E5ECF6\",\"gridcolor\":\"white\",\"gridwidth\":2,\"linecolor\":\"white\",\"showbackground\":true,\"ticks\":\"\",\"zerolinecolor\":\"white\"},\"yaxis\":{\"backgroundcolor\":\"#E5ECF6\",\"gridcolor\":\"white\",\"gridwidth\":2,\"linecolor\":\"white\",\"showbackground\":true,\"ticks\":\"\",\"zerolinecolor\":\"white\"},\"zaxis\":{\"backgroundcolor\":\"#E5ECF6\",\"gridcolor\":\"white\",\"gridwidth\":2,\"linecolor\":\"white\",\"showbackground\":true,\"ticks\":\"\",\"zerolinecolor\":\"white\"}},\"shapedefaults\":{\"line\":{\"color\":\"#2a3f5f\"}},\"ternary\":{\"aaxis\":{\"gridcolor\":\"white\",\"linecolor\":\"white\",\"ticks\":\"\"},\"baxis\":{\"gridcolor\":\"white\",\"linecolor\":\"white\",\"ticks\":\"\"},\"bgcolor\":\"#E5ECF6\",\"caxis\":{\"gridcolor\":\"white\",\"linecolor\":\"white\",\"ticks\":\"\"}},\"title\":{\"x\":0.05},\"xaxis\":{\"automargin\":true,\"gridcolor\":\"white\",\"linecolor\":\"white\",\"ticks\":\"\",\"title\":{\"standoff\":15},\"zerolinecolor\":\"white\",\"zerolinewidth\":2},\"yaxis\":{\"automargin\":true,\"gridcolor\":\"white\",\"linecolor\":\"white\",\"ticks\":\"\",\"title\":{\"standoff\":15},\"zerolinecolor\":\"white\",\"zerolinewidth\":2}}},\"title\":{\"text\":\"Distribution of <b>Product Class</b> by Recommendation \"},\"width\":680,\"xaxis\":{\"tickformat\":\",.0%\"}},                        {\"responsive\": true}                    ).then(function(){\n",
       "                            \n",
       "var gd = document.getElementById('661f80cd-041b-4b61-8a16-6eb29b5ca486');\n",
       "var x = new MutationObserver(function (mutations, observer) {{\n",
       "        var display = window.getComputedStyle(gd).display;\n",
       "        if (!display || display === 'none') {{\n",
       "            console.log([gd, 'removed!']);\n",
       "            Plotly.purge(gd);\n",
       "            observer.disconnect();\n",
       "        }}\n",
       "}});\n",
       "\n",
       "// Listen for the removal of the full notebook cells\n",
       "var notebookContainer = gd.closest('#notebook-container');\n",
       "if (notebookContainer) {{\n",
       "    x.observe(notebookContainer, {childList: true});\n",
       "}}\n",
       "\n",
       "// Listen for the clearing of the current output cell\n",
       "var outputEl = gd.closest('.output');\n",
       "if (outputEl) {{\n",
       "    x.observe(outputEl, {childList: true});\n",
       "}}\n",
       "\n",
       "                        })                };                });            </script>        </div>"
      ]
     },
     "metadata": {},
     "output_type": "display_data"
    }
   ],
   "source": [
    "classes = (\n",
    "    df\n",
    "    .groupby(['Recommended IND', 'Class Name'])\n",
    "    .size()\n",
    "    .to_frame()\n",
    "    .rename(columns={0:'Count'})\n",
    "    .reset_index()\n",
    "          )  \n",
    "\n",
    "# get proportions in each class\n",
    "a = classes.groupby('Class Name')['Count'].transform('sum')\n",
    "\n",
    "classes['Count'] = classes['Count'].div(a)\n",
    "\n",
    "# pivot table\n",
    "classes = classes.pivot(index='Class Name', columns='Recommended IND')  \n",
    "\n",
    "fig = go.Figure()\n",
    "fig.add_trace(go.Bar(\n",
    "    y=classes.index,\n",
    "    x=classes.iloc[:,0],\n",
    "    name='Not Recommended',\n",
    "    orientation='h',\n",
    "    marker=dict(\n",
    "        color='#f6b220')\n",
    "    ))\n",
    "\n",
    "fig.add_trace(go.Bar(\n",
    "    y=classes.index,\n",
    "    x=classes.iloc[:,1],\n",
    "    name='Recommended',\n",
    "    orientation='h',\n",
    "    marker=dict(\n",
    "        color='#0E2F44')\n",
    "    ))\n",
    "\n",
    "fig.update_layout(barmode='stack')\n",
    "\n",
    "fig.update_layout(\n",
    "                title = 'Distribution of <b>Product Class</b> by Recommendation ',\n",
    "                barmode='stack', \n",
    "                autosize=False,\n",
    "                width=680,\n",
    "                height=800,\n",
    "                font=dict(family=\"Rockwell, sans-serif\", size=18, color='#000000'),\n",
    "                margin=dict(\n",
    "                  l=150,\n",
    "                  r=100,\n",
    "                   b=30,\n",
    "                   t=100,\n",
    "                   pad=4\n",
    "                          ))\n",
    "fig.layout.xaxis.tickformat = ',.0%'\n",
    "\n",
    "fig.show()"
   ]
  },
  {
   "cell_type": "markdown",
   "id": "eb37e024",
   "metadata": {
    "papermill": {
     "duration": 0.022469,
     "end_time": "2021-11-22T23:58:51.430178",
     "exception": false,
     "start_time": "2021-11-22T23:58:51.407709",
     "status": "completed"
    },
    "tags": []
   },
   "source": [
    "\"Trend\" is the class with the most \"Not Recommended\" responses."
   ]
  },
  {
   "cell_type": "code",
   "execution_count": 7,
   "id": "6e09e4c9",
   "metadata": {
    "execution": {
     "iopub.execute_input": "2021-11-22T23:58:51.479804Z",
     "iopub.status.busy": "2021-11-22T23:58:51.479119Z",
     "iopub.status.idle": "2021-11-22T23:58:51.572000Z",
     "shell.execute_reply": "2021-11-22T23:58:51.572540Z"
    },
    "papermill": {
     "duration": 0.119141,
     "end_time": "2021-11-22T23:58:51.572725",
     "exception": false,
     "start_time": "2021-11-22T23:58:51.453584",
     "status": "completed"
    },
    "tags": []
   },
   "outputs": [
    {
     "data": {
      "text/html": [
       "<div>                            <div id=\"8f0715e6-23c2-471b-95ea-07345d35cff2\" class=\"plotly-graph-div\" style=\"height:500px; width:100%;\"></div>            <script type=\"text/javascript\">                require([\"plotly\"], function(Plotly) {                    window.PLOTLYENV=window.PLOTLYENV || {};                                    if (document.getElementById(\"8f0715e6-23c2-471b-95ea-07345d35cff2\")) {                    Plotly.newPlot(                        \"8f0715e6-23c2-471b-95ea-07345d35cff2\",                        [{\"cliponaxis\":false,\"hovertemplate\":\"<b>Rating</b>: %{x}<br><extra></extra><b>Count</b>: %{y}\",\"marker\":{\"color\":[\"#0E2F44\",\"#0E2F44\",\"#0E2F44\",\"#0E2F44\",\"#f6b220\"]},\"text\":[\"3.63%\",\"6.85%\",\"12.48%\",\"21.69%\",\"55.36%\"],\"textfont\":{\"size\":18},\"textposition\":\"outside\",\"texttemplate\":\"%{text}\",\"type\":\"bar\",\"x\":[1,2,3,4,5],\"y\":[821,1549,2823,4908,12527]}],                        {\"coloraxis\":{\"colorscale\":[[0.0,\"rgb(209, 238, 234)\"],[0.16666666666666666,\"rgb(168, 219, 217)\"],[0.3333333333333333,\"rgb(133, 196, 201)\"],[0.5,\"rgb(104, 171, 184)\"],[0.6666666666666666,\"rgb(79, 144, 166)\"],[0.8333333333333334,\"rgb(59, 115, 143)\"],[1.0,\"rgb(42, 86, 116)\"]]},\"font\":{\"color\":\"#000000\",\"family\":\"Rockwell, sans-serif\",\"size\":22},\"height\":500,\"margin\":{\"pad\":20},\"paper_bgcolor\":\"#F7F7F7\",\"plot_bgcolor\":\"#F7F7F7\",\"showlegend\":false,\"template\":{\"data\":{\"bar\":[{\"error_x\":{\"color\":\"#2a3f5f\"},\"error_y\":{\"color\":\"#2a3f5f\"},\"marker\":{\"line\":{\"color\":\"#E5ECF6\",\"width\":0.5},\"pattern\":{\"fillmode\":\"overlay\",\"size\":10,\"solidity\":0.2}},\"type\":\"bar\"}],\"barpolar\":[{\"marker\":{\"line\":{\"color\":\"#E5ECF6\",\"width\":0.5},\"pattern\":{\"fillmode\":\"overlay\",\"size\":10,\"solidity\":0.2}},\"type\":\"barpolar\"}],\"carpet\":[{\"aaxis\":{\"endlinecolor\":\"#2a3f5f\",\"gridcolor\":\"white\",\"linecolor\":\"white\",\"minorgridcolor\":\"white\",\"startlinecolor\":\"#2a3f5f\"},\"baxis\":{\"endlinecolor\":\"#2a3f5f\",\"gridcolor\":\"white\",\"linecolor\":\"white\",\"minorgridcolor\":\"white\",\"startlinecolor\":\"#2a3f5f\"},\"type\":\"carpet\"}],\"choropleth\":[{\"colorbar\":{\"outlinewidth\":0,\"ticks\":\"\"},\"type\":\"choropleth\"}],\"contour\":[{\"colorbar\":{\"outlinewidth\":0,\"ticks\":\"\"},\"colorscale\":[[0.0,\"#0d0887\"],[0.1111111111111111,\"#46039f\"],[0.2222222222222222,\"#7201a8\"],[0.3333333333333333,\"#9c179e\"],[0.4444444444444444,\"#bd3786\"],[0.5555555555555556,\"#d8576b\"],[0.6666666666666666,\"#ed7953\"],[0.7777777777777778,\"#fb9f3a\"],[0.8888888888888888,\"#fdca26\"],[1.0,\"#f0f921\"]],\"type\":\"contour\"}],\"contourcarpet\":[{\"colorbar\":{\"outlinewidth\":0,\"ticks\":\"\"},\"type\":\"contourcarpet\"}],\"heatmap\":[{\"colorbar\":{\"outlinewidth\":0,\"ticks\":\"\"},\"colorscale\":[[0.0,\"#0d0887\"],[0.1111111111111111,\"#46039f\"],[0.2222222222222222,\"#7201a8\"],[0.3333333333333333,\"#9c179e\"],[0.4444444444444444,\"#bd3786\"],[0.5555555555555556,\"#d8576b\"],[0.6666666666666666,\"#ed7953\"],[0.7777777777777778,\"#fb9f3a\"],[0.8888888888888888,\"#fdca26\"],[1.0,\"#f0f921\"]],\"type\":\"heatmap\"}],\"heatmapgl\":[{\"colorbar\":{\"outlinewidth\":0,\"ticks\":\"\"},\"colorscale\":[[0.0,\"#0d0887\"],[0.1111111111111111,\"#46039f\"],[0.2222222222222222,\"#7201a8\"],[0.3333333333333333,\"#9c179e\"],[0.4444444444444444,\"#bd3786\"],[0.5555555555555556,\"#d8576b\"],[0.6666666666666666,\"#ed7953\"],[0.7777777777777778,\"#fb9f3a\"],[0.8888888888888888,\"#fdca26\"],[1.0,\"#f0f921\"]],\"type\":\"heatmapgl\"}],\"histogram\":[{\"marker\":{\"pattern\":{\"fillmode\":\"overlay\",\"size\":10,\"solidity\":0.2}},\"type\":\"histogram\"}],\"histogram2d\":[{\"colorbar\":{\"outlinewidth\":0,\"ticks\":\"\"},\"colorscale\":[[0.0,\"#0d0887\"],[0.1111111111111111,\"#46039f\"],[0.2222222222222222,\"#7201a8\"],[0.3333333333333333,\"#9c179e\"],[0.4444444444444444,\"#bd3786\"],[0.5555555555555556,\"#d8576b\"],[0.6666666666666666,\"#ed7953\"],[0.7777777777777778,\"#fb9f3a\"],[0.8888888888888888,\"#fdca26\"],[1.0,\"#f0f921\"]],\"type\":\"histogram2d\"}],\"histogram2dcontour\":[{\"colorbar\":{\"outlinewidth\":0,\"ticks\":\"\"},\"colorscale\":[[0.0,\"#0d0887\"],[0.1111111111111111,\"#46039f\"],[0.2222222222222222,\"#7201a8\"],[0.3333333333333333,\"#9c179e\"],[0.4444444444444444,\"#bd3786\"],[0.5555555555555556,\"#d8576b\"],[0.6666666666666666,\"#ed7953\"],[0.7777777777777778,\"#fb9f3a\"],[0.8888888888888888,\"#fdca26\"],[1.0,\"#f0f921\"]],\"type\":\"histogram2dcontour\"}],\"mesh3d\":[{\"colorbar\":{\"outlinewidth\":0,\"ticks\":\"\"},\"type\":\"mesh3d\"}],\"parcoords\":[{\"line\":{\"colorbar\":{\"outlinewidth\":0,\"ticks\":\"\"}},\"type\":\"parcoords\"}],\"pie\":[{\"automargin\":true,\"type\":\"pie\"}],\"scatter\":[{\"marker\":{\"colorbar\":{\"outlinewidth\":0,\"ticks\":\"\"}},\"type\":\"scatter\"}],\"scatter3d\":[{\"line\":{\"colorbar\":{\"outlinewidth\":0,\"ticks\":\"\"}},\"marker\":{\"colorbar\":{\"outlinewidth\":0,\"ticks\":\"\"}},\"type\":\"scatter3d\"}],\"scattercarpet\":[{\"marker\":{\"colorbar\":{\"outlinewidth\":0,\"ticks\":\"\"}},\"type\":\"scattercarpet\"}],\"scattergeo\":[{\"marker\":{\"colorbar\":{\"outlinewidth\":0,\"ticks\":\"\"}},\"type\":\"scattergeo\"}],\"scattergl\":[{\"marker\":{\"colorbar\":{\"outlinewidth\":0,\"ticks\":\"\"}},\"type\":\"scattergl\"}],\"scattermapbox\":[{\"marker\":{\"colorbar\":{\"outlinewidth\":0,\"ticks\":\"\"}},\"type\":\"scattermapbox\"}],\"scatterpolar\":[{\"marker\":{\"colorbar\":{\"outlinewidth\":0,\"ticks\":\"\"}},\"type\":\"scatterpolar\"}],\"scatterpolargl\":[{\"marker\":{\"colorbar\":{\"outlinewidth\":0,\"ticks\":\"\"}},\"type\":\"scatterpolargl\"}],\"scatterternary\":[{\"marker\":{\"colorbar\":{\"outlinewidth\":0,\"ticks\":\"\"}},\"type\":\"scatterternary\"}],\"surface\":[{\"colorbar\":{\"outlinewidth\":0,\"ticks\":\"\"},\"colorscale\":[[0.0,\"#0d0887\"],[0.1111111111111111,\"#46039f\"],[0.2222222222222222,\"#7201a8\"],[0.3333333333333333,\"#9c179e\"],[0.4444444444444444,\"#bd3786\"],[0.5555555555555556,\"#d8576b\"],[0.6666666666666666,\"#ed7953\"],[0.7777777777777778,\"#fb9f3a\"],[0.8888888888888888,\"#fdca26\"],[1.0,\"#f0f921\"]],\"type\":\"surface\"}],\"table\":[{\"cells\":{\"fill\":{\"color\":\"#EBF0F8\"},\"line\":{\"color\":\"white\"}},\"header\":{\"fill\":{\"color\":\"#C8D4E3\"},\"line\":{\"color\":\"white\"}},\"type\":\"table\"}]},\"layout\":{\"annotationdefaults\":{\"arrowcolor\":\"#2a3f5f\",\"arrowhead\":0,\"arrowwidth\":1},\"autotypenumbers\":\"strict\",\"coloraxis\":{\"colorbar\":{\"outlinewidth\":0,\"ticks\":\"\"}},\"colorscale\":{\"diverging\":[[0,\"#8e0152\"],[0.1,\"#c51b7d\"],[0.2,\"#de77ae\"],[0.3,\"#f1b6da\"],[0.4,\"#fde0ef\"],[0.5,\"#f7f7f7\"],[0.6,\"#e6f5d0\"],[0.7,\"#b8e186\"],[0.8,\"#7fbc41\"],[0.9,\"#4d9221\"],[1,\"#276419\"]],\"sequential\":[[0.0,\"#0d0887\"],[0.1111111111111111,\"#46039f\"],[0.2222222222222222,\"#7201a8\"],[0.3333333333333333,\"#9c179e\"],[0.4444444444444444,\"#bd3786\"],[0.5555555555555556,\"#d8576b\"],[0.6666666666666666,\"#ed7953\"],[0.7777777777777778,\"#fb9f3a\"],[0.8888888888888888,\"#fdca26\"],[1.0,\"#f0f921\"]],\"sequentialminus\":[[0.0,\"#0d0887\"],[0.1111111111111111,\"#46039f\"],[0.2222222222222222,\"#7201a8\"],[0.3333333333333333,\"#9c179e\"],[0.4444444444444444,\"#bd3786\"],[0.5555555555555556,\"#d8576b\"],[0.6666666666666666,\"#ed7953\"],[0.7777777777777778,\"#fb9f3a\"],[0.8888888888888888,\"#fdca26\"],[1.0,\"#f0f921\"]]},\"colorway\":[\"#636efa\",\"#EF553B\",\"#00cc96\",\"#ab63fa\",\"#FFA15A\",\"#19d3f3\",\"#FF6692\",\"#B6E880\",\"#FF97FF\",\"#FECB52\"],\"font\":{\"color\":\"#2a3f5f\"},\"geo\":{\"bgcolor\":\"white\",\"lakecolor\":\"white\",\"landcolor\":\"#E5ECF6\",\"showlakes\":true,\"showland\":true,\"subunitcolor\":\"white\"},\"hoverlabel\":{\"align\":\"left\"},\"hovermode\":\"closest\",\"mapbox\":{\"style\":\"light\"},\"paper_bgcolor\":\"white\",\"plot_bgcolor\":\"#E5ECF6\",\"polar\":{\"angularaxis\":{\"gridcolor\":\"white\",\"linecolor\":\"white\",\"ticks\":\"\"},\"bgcolor\":\"#E5ECF6\",\"radialaxis\":{\"gridcolor\":\"white\",\"linecolor\":\"white\",\"ticks\":\"\"}},\"scene\":{\"xaxis\":{\"backgroundcolor\":\"#E5ECF6\",\"gridcolor\":\"white\",\"gridwidth\":2,\"linecolor\":\"white\",\"showbackground\":true,\"ticks\":\"\",\"zerolinecolor\":\"white\"},\"yaxis\":{\"backgroundcolor\":\"#E5ECF6\",\"gridcolor\":\"white\",\"gridwidth\":2,\"linecolor\":\"white\",\"showbackground\":true,\"ticks\":\"\",\"zerolinecolor\":\"white\"},\"zaxis\":{\"backgroundcolor\":\"#E5ECF6\",\"gridcolor\":\"white\",\"gridwidth\":2,\"linecolor\":\"white\",\"showbackground\":true,\"ticks\":\"\",\"zerolinecolor\":\"white\"}},\"shapedefaults\":{\"line\":{\"color\":\"#2a3f5f\"}},\"ternary\":{\"aaxis\":{\"gridcolor\":\"white\",\"linecolor\":\"white\",\"ticks\":\"\"},\"baxis\":{\"gridcolor\":\"white\",\"linecolor\":\"white\",\"ticks\":\"\"},\"bgcolor\":\"#E5ECF6\",\"caxis\":{\"gridcolor\":\"white\",\"linecolor\":\"white\",\"ticks\":\"\"}},\"title\":{\"x\":0.05},\"xaxis\":{\"automargin\":true,\"gridcolor\":\"white\",\"linecolor\":\"white\",\"ticks\":\"\",\"title\":{\"standoff\":15},\"zerolinecolor\":\"white\",\"zerolinewidth\":2},\"yaxis\":{\"automargin\":true,\"gridcolor\":\"white\",\"linecolor\":\"white\",\"ticks\":\"\",\"title\":{\"standoff\":15},\"zerolinecolor\":\"white\",\"zerolinewidth\":2}}},\"title\":{\"font\":{\"size\":35},\"text\":\"<b>Rating</b> Distribution\",\"x\":0.5},\"xaxis\":{\"showgrid\":false,\"title\":{}},\"yaxis\":{\"showgrid\":false,\"showticklabels\":false,\"title\":{}}},                        {\"responsive\": true}                    ).then(function(){\n",
       "                            \n",
       "var gd = document.getElementById('8f0715e6-23c2-471b-95ea-07345d35cff2');\n",
       "var x = new MutationObserver(function (mutations, observer) {{\n",
       "        var display = window.getComputedStyle(gd).display;\n",
       "        if (!display || display === 'none') {{\n",
       "            console.log([gd, 'removed!']);\n",
       "            Plotly.purge(gd);\n",
       "            observer.disconnect();\n",
       "        }}\n",
       "}});\n",
       "\n",
       "// Listen for the removal of the full notebook cells\n",
       "var notebookContainer = gd.closest('#notebook-container');\n",
       "if (notebookContainer) {{\n",
       "    x.observe(notebookContainer, {childList: true});\n",
       "}}\n",
       "\n",
       "// Listen for the clearing of the current output cell\n",
       "var outputEl = gd.closest('.output');\n",
       "if (outputEl) {{\n",
       "    x.observe(outputEl, {childList: true});\n",
       "}}\n",
       "\n",
       "                        })                };                });            </script>        </div>"
      ]
     },
     "metadata": {},
     "output_type": "display_data"
    }
   ],
   "source": [
    "rating = (\n",
    "    df['Rating']\n",
    "    .value_counts()\n",
    "    .to_frame()\n",
    "    .reset_index()\n",
    "    .rename(columns={'index':'Rating', 'Rating':'Count'})\n",
    "    .sort_values(by=['Rating'], ascending=True)   \n",
    "          ) \n",
    "\n",
    "rating['percent'] = ((rating['Count'] / rating['Count'].sum())*100).round(2).astype(str) + '%'\n",
    "\n",
    "colors = ['#0E2F44',] * 5\n",
    "colors[4] = '#f6b220'\n",
    "\n",
    "fig = go.Figure(go.Bar(\n",
    "            y=rating['Count'],\n",
    "            x=rating['Rating'],\n",
    "            marker_color=colors,\n",
    "            text=rating['percent']\n",
    "                        ))\n",
    "\n",
    "fig.update_traces(texttemplate='%{text}', \n",
    "                  textposition='outside',\n",
    "                  cliponaxis = False,\n",
    "                  hovertemplate='<b>Rating</b>: %{x}<br><extra></extra>'+  # <extra></extra> removes trance 0\n",
    "                                '<b>Count</b>: %{y}',\n",
    "                  textfont_size=18)\n",
    "                  \n",
    "fig.update_xaxes(showgrid=False)\n",
    "fig.update_yaxes(showgrid=False)\n",
    " \n",
    "fig.update_layout(coloraxis=dict(colorscale='Teal'),\n",
    "                  showlegend=False, \n",
    "                  plot_bgcolor='#F7F7F7', \n",
    "                  margin=dict(pad=20),\n",
    "                  paper_bgcolor='#F7F7F7',\n",
    "                  height=500,\n",
    "                  yaxis={'showticklabels': False},\n",
    "                  yaxis_title=None,\n",
    "                  xaxis_title=None,\n",
    "                  title_text=\"<b>Rating</b> Distribution\",\n",
    "                  title_x=0.5,\n",
    "                  font=dict(family=\"Rockwell, sans-serif\", size=22, color='#000000'),\n",
    "                  title_font_size=35)\n",
    "\n",
    "\n",
    "fig.show()"
   ]
  },
  {
   "cell_type": "markdown",
   "id": "054a9055",
   "metadata": {
    "papermill": {
     "duration": 0.028555,
     "end_time": "2021-11-22T23:58:51.624900",
     "exception": false,
     "start_time": "2021-11-22T23:58:51.596345",
     "status": "completed"
    },
    "tags": []
   },
   "source": [
    "# NLP\n",
    "\n",
    "For the following models, I'll just be focusing on the review text and recommendation columns to determine if, based on the text, the user will recommend the product to other customers (i.e. if they like it enough to recommend it to some else). This way it will reduce the complexity of the model and make it a classification binary model."
   ]
  },
  {
   "cell_type": "code",
   "execution_count": 8,
   "id": "b4394309",
   "metadata": {
    "execution": {
     "iopub.execute_input": "2021-11-22T23:58:51.691116Z",
     "iopub.status.busy": "2021-11-22T23:58:51.689981Z",
     "iopub.status.idle": "2021-11-22T23:58:58.631827Z",
     "shell.execute_reply": "2021-11-22T23:58:58.631178Z"
    },
    "papermill": {
     "duration": 6.980226,
     "end_time": "2021-11-22T23:58:58.631973",
     "exception": false,
     "start_time": "2021-11-22T23:58:51.651747",
     "status": "completed"
    },
    "tags": []
   },
   "outputs": [],
   "source": [
    "# Necessary libraries\n",
    "from sklearn.model_selection import train_test_split\n",
    "from sklearn import metrics\n",
    "\n",
    "import re\n",
    "import string\n",
    "\n",
    "from tensorflow import keras\n",
    "from tensorflow.keras.preprocessing import sequence\n",
    "from tensorflow.keras.models import Sequential\n",
    "from tensorflow.keras.layers import Dense, Embedding\n",
    "from tensorflow.keras.layers import SimpleRNN, LSTM\n",
    "from tensorflow.keras.preprocessing.text import Tokenizer\n",
    "from tensorflow.keras.preprocessing.sequence import pad_sequences"
   ]
  },
  {
   "cell_type": "code",
   "execution_count": 9,
   "id": "281a6321",
   "metadata": {
    "execution": {
     "iopub.execute_input": "2021-11-22T23:58:58.687087Z",
     "iopub.status.busy": "2021-11-22T23:58:58.686222Z",
     "iopub.status.idle": "2021-11-22T23:58:58.688897Z",
     "shell.execute_reply": "2021-11-22T23:58:58.688381Z"
    },
    "papermill": {
     "duration": 0.033085,
     "end_time": "2021-11-22T23:58:58.689038",
     "exception": false,
     "start_time": "2021-11-22T23:58:58.655953",
     "status": "completed"
    },
    "tags": []
   },
   "outputs": [],
   "source": [
    "# Let's just work with the reviews and recommendations\n",
    "data = df[['Review Text', 'Recommended IND']]"
   ]
  },
  {
   "cell_type": "code",
   "execution_count": 10,
   "id": "b8454b16",
   "metadata": {
    "execution": {
     "iopub.execute_input": "2021-11-22T23:58:58.744654Z",
     "iopub.status.busy": "2021-11-22T23:58:58.743910Z",
     "iopub.status.idle": "2021-11-22T23:58:58.747083Z",
     "shell.execute_reply": "2021-11-22T23:58:58.746477Z"
    },
    "papermill": {
     "duration": 0.03431,
     "end_time": "2021-11-22T23:58:58.747224",
     "exception": false,
     "start_time": "2021-11-22T23:58:58.712914",
     "status": "completed"
    },
    "tags": []
   },
   "outputs": [],
   "source": [
    "# Cleaning the text\n",
    "def clean_text(text):\n",
    "    '''Make text lowercase, remove text in square brackets, \n",
    "    remove links, remove punctuation\n",
    "    and remove words containing numbers.'''\n",
    "    text = str(text).lower()\n",
    "    text = re.sub('\\[.*?\\]', '', text)\n",
    "    text = re.sub('https?://\\S+|www\\.\\S+', '', text)\n",
    "    text = re.sub('<.*?>+', '', text)\n",
    "    text = re.sub('[%s]' % re.escape(string.punctuation), '', text)\n",
    "    text = re.sub('\\n', '', text)\n",
    "    text = re.sub('\\w*\\d\\w*', '', text)\n",
    "    return text"
   ]
  },
  {
   "cell_type": "code",
   "execution_count": 11,
   "id": "73d5e043",
   "metadata": {
    "execution": {
     "iopub.execute_input": "2021-11-22T23:58:58.799066Z",
     "iopub.status.busy": "2021-11-22T23:58:58.798431Z",
     "iopub.status.idle": "2021-11-22T23:59:00.808780Z",
     "shell.execute_reply": "2021-11-22T23:59:00.809302Z"
    },
    "papermill": {
     "duration": 2.037898,
     "end_time": "2021-11-22T23:59:00.809489",
     "exception": false,
     "start_time": "2021-11-22T23:58:58.771591",
     "status": "completed"
    },
    "tags": []
   },
   "outputs": [],
   "source": [
    "data['Review Text'] = data['Review Text'].apply(lambda x:clean_text(x))"
   ]
  },
  {
   "cell_type": "code",
   "execution_count": 12,
   "id": "5f4d9607",
   "metadata": {
    "execution": {
     "iopub.execute_input": "2021-11-22T23:59:00.862535Z",
     "iopub.status.busy": "2021-11-22T23:59:00.861871Z",
     "iopub.status.idle": "2021-11-22T23:59:00.865609Z",
     "shell.execute_reply": "2021-11-22T23:59:00.866076Z"
    },
    "papermill": {
     "duration": 0.031521,
     "end_time": "2021-11-22T23:59:00.866264",
     "exception": false,
     "start_time": "2021-11-22T23:59:00.834743",
     "status": "completed"
    },
    "tags": []
   },
   "outputs": [],
   "source": [
    "# Setting up the evaluation metrics\n",
    "def roc_auc(predictions,target):\n",
    "    \n",
    "    fpr, tpr, thresholds = metrics.roc_curve(target, predictions)\n",
    "    roc_auc = metrics.auc(fpr, tpr)\n",
    "    return roc_auc"
   ]
  },
  {
   "cell_type": "code",
   "execution_count": 13,
   "id": "de2da6eb",
   "metadata": {
    "execution": {
     "iopub.execute_input": "2021-11-22T23:59:00.919048Z",
     "iopub.status.busy": "2021-11-22T23:59:00.918398Z",
     "iopub.status.idle": "2021-11-22T23:59:00.947743Z",
     "shell.execute_reply": "2021-11-22T23:59:00.948235Z"
    },
    "papermill": {
     "duration": 0.057389,
     "end_time": "2021-11-22T23:59:00.948439",
     "exception": false,
     "start_time": "2021-11-22T23:59:00.891050",
     "status": "completed"
    },
    "tags": []
   },
   "outputs": [],
   "source": [
    "# Split target & features\n",
    "X = data.drop('Recommended IND', axis=1)\n",
    "y = data['Recommended IND']\n",
    "\n",
    "# Spliting train & test\n",
    "X_train, X_test, y_train, y_test = train_test_split(X, y, \n",
    "                                                    stratify=y,\n",
    "                                                    test_size=0.2, \n",
    "                                                    random_state=42,\n",
    "                                                    shuffle=True)"
   ]
  },
  {
   "cell_type": "markdown",
   "id": "5f7a9f0d",
   "metadata": {
    "papermill": {
     "duration": 0.024515,
     "end_time": "2021-11-22T23:59:00.997403",
     "exception": false,
     "start_time": "2021-11-22T23:59:00.972888",
     "status": "completed"
    },
    "tags": []
   },
   "source": [
    "# Tokenization\n",
    "\n",
    "Tokenization is an essencial step on a NLP process. Tokenization is essentially splitting a phrase, sentence, paragraph, or an entire text document into smaller units, such as individual words or terms. Each of these smaller units are called tokens. Check out the below image to visualize this definition:\n",
    "\n",
    "<center><img src='https://freecontent.manning.com/wp-content/uploads/Chollet_DLfT_01.png'></center>\n",
    "\n",
    "I recommend checking these 2 articles: \n",
    "\n",
    "* https://www.analyticsvidhya.com/blog/2019/07/how-get-started-nlp-6-unique-ways-perform-tokenization/\n",
    "\n",
    "* https://www.kdnuggets.com/2020/03/tensorflow-keras-tokenization-text-data-prep.html"
   ]
  },
  {
   "cell_type": "code",
   "execution_count": 14,
   "id": "4eabb26f",
   "metadata": {
    "execution": {
     "iopub.execute_input": "2021-11-22T23:59:01.065478Z",
     "iopub.status.busy": "2021-11-22T23:59:01.054567Z",
     "iopub.status.idle": "2021-11-22T23:59:03.575901Z",
     "shell.execute_reply": "2021-11-22T23:59:03.574911Z"
    },
    "papermill": {
     "duration": 2.554278,
     "end_time": "2021-11-22T23:59:03.576120",
     "exception": false,
     "start_time": "2021-11-22T23:59:01.021842",
     "status": "completed"
    },
    "tags": []
   },
   "outputs": [
    {
     "name": "stdout",
     "output_type": "stream",
     "text": [
      "\n",
      "Padded training shape: (18102, 112)\n",
      "\n",
      "Padded test shape: (4526, 112)\n"
     ]
    }
   ],
   "source": [
    "# Keras takenization text data prep\n",
    "\n",
    "num_words = None   # the most X frequent words is returned\n",
    "\n",
    "# Tokenize data\n",
    "tokenizer = Tokenizer(num_words=num_words)\n",
    "tokenizer.fit_on_texts(X_train['Review Text'].tolist() + X_test['Review Text'].tolist())   # introduce text in list\n",
    "\n",
    "# Get data word index\n",
    "word_index = tokenizer.word_index\n",
    "\n",
    "# Encode training/test data sentences into sequences\n",
    "X_train_seq = tokenizer.texts_to_sequences(X_train['Review Text'].tolist())\n",
    "X_test_seq = tokenizer.texts_to_sequences(X_test['Review Text'].tolist())\n",
    "\n",
    "# Get max training sequence length\n",
    "max_len = max([len(x) for x in X_train_seq])\n",
    "\n",
    "# Pad the training/test sequences\n",
    "X_train_pad = pad_sequences(X_train_seq, maxlen=max_len)\n",
    "X_test_pad = pad_sequences(X_test_seq, maxlen=max_len)\n",
    "\n",
    "# Output some results \n",
    "print(\"\\nPadded training shape:\", X_train_pad.shape)\n",
    "print(\"\\nPadded test shape:\", X_test_pad.shape)"
   ]
  },
  {
   "cell_type": "markdown",
   "id": "bd3847e3",
   "metadata": {
    "papermill": {
     "duration": 0.026068,
     "end_time": "2021-11-22T23:59:03.627983",
     "exception": false,
     "start_time": "2021-11-22T23:59:03.601915",
     "status": "completed"
    },
    "tags": []
   },
   "source": [
    "# RNN"
   ]
  },
  {
   "cell_type": "code",
   "execution_count": 15,
   "id": "51b43445",
   "metadata": {
    "execution": {
     "iopub.execute_input": "2021-11-22T23:59:03.684909Z",
     "iopub.status.busy": "2021-11-22T23:59:03.684200Z",
     "iopub.status.idle": "2021-11-22T23:59:03.935663Z",
     "shell.execute_reply": "2021-11-22T23:59:03.936175Z"
    },
    "papermill": {
     "duration": 0.283207,
     "end_time": "2021-11-22T23:59:03.936362",
     "exception": false,
     "start_time": "2021-11-22T23:59:03.653155",
     "status": "completed"
    },
    "tags": []
   },
   "outputs": [
    {
     "name": "stdout",
     "output_type": "stream",
     "text": [
      "Model: \"sequential\"\n",
      "_________________________________________________________________\n",
      "Layer (type)                 Output Shape              Param #   \n",
      "=================================================================\n",
      "embedding (Embedding)        (None, 112, 50)           1022500   \n",
      "_________________________________________________________________\n",
      "simple_rnn (SimpleRNN)       (None, 100)               15100     \n",
      "_________________________________________________________________\n",
      "dense (Dense)                (None, 1)                 101       \n",
      "=================================================================\n",
      "Total params: 1,037,701\n",
      "Trainable params: 1,037,701\n",
      "Non-trainable params: 0\n",
      "_________________________________________________________________\n"
     ]
    },
    {
     "name": "stderr",
     "output_type": "stream",
     "text": [
      "\n",
      "User settings:\n",
      "\n",
      "   KMP_AFFINITY=granularity=fine,verbose,compact,1,0\n",
      "   KMP_BLOCKTIME=0\n",
      "   KMP_DUPLICATE_LIB_OK=True\n",
      "   KMP_INIT_AT_FORK=FALSE\n",
      "   KMP_SETTINGS=1\n",
      "   KMP_WARNINGS=0\n",
      "\n",
      "Effective settings:\n",
      "\n",
      "   KMP_ABORT_DELAY=0\n",
      "   KMP_ADAPTIVE_LOCK_PROPS='1,1024'\n",
      "   KMP_ALIGN_ALLOC=64\n",
      "   KMP_ALL_THREADPRIVATE=128\n",
      "   KMP_ATOMIC_MODE=2\n",
      "   KMP_BLOCKTIME=0\n",
      "   KMP_CPUINFO_FILE: value is not defined\n",
      "   KMP_DETERMINISTIC_REDUCTION=false\n",
      "   KMP_DEVICE_THREAD_LIMIT=2147483647\n",
      "   KMP_DISP_NUM_BUFFERS=7\n",
      "   KMP_DUPLICATE_LIB_OK=true\n",
      "   KMP_ENABLE_TASK_THROTTLING=true\n",
      "   KMP_FORCE_REDUCTION: value is not defined\n",
      "   KMP_FOREIGN_THREADS_THREADPRIVATE=true\n",
      "   KMP_FORKJOIN_BARRIER='2,2'\n",
      "   KMP_FORKJOIN_BARRIER_PATTERN='hyper,hyper'\n",
      "   KMP_GTID_MODE=3\n",
      "   KMP_HANDLE_SIGNALS=false\n",
      "   KMP_HOT_TEAMS_MAX_LEVEL=1\n",
      "   KMP_HOT_TEAMS_MODE=0\n",
      "   KMP_INIT_AT_FORK=true\n",
      "   KMP_LIBRARY=throughput\n",
      "   KMP_LOCK_KIND=queuing\n",
      "   KMP_MALLOC_POOL_INCR=1M\n",
      "   KMP_NUM_LOCKS_IN_BLOCK=1\n",
      "   KMP_PLAIN_BARRIER='2,2'\n",
      "   KMP_PLAIN_BARRIER_PATTERN='hyper,hyper'\n",
      "   KMP_REDUCTION_BARRIER='1,1'\n",
      "   KMP_REDUCTION_BARRIER_PATTERN='hyper,hyper'\n",
      "   KMP_SCHEDULE='static,balanced;guided,iterative'\n",
      "   KMP_SETTINGS=true\n",
      "   KMP_SPIN_BACKOFF_PARAMS='4096,100'\n",
      "   KMP_STACKOFFSET=64\n",
      "   KMP_STACKPAD=0\n",
      "   KMP_STACKSIZE=8M\n",
      "   KMP_STORAGE_MAP=false\n",
      "   KMP_TASKING=2\n",
      "   KMP_TASKLOOP_MIN_TASKS=0\n",
      "   KMP_TASK_STEALING_CONSTRAINT=1\n",
      "   KMP_TEAMS_THREAD_LIMIT=4\n",
      "   KMP_TOPOLOGY_METHOD=all\n",
      "   KMP_USE_YIELD=1\n",
      "   KMP_VERSION=false\n",
      "   KMP_WARNINGS=false\n",
      "   OMP_AFFINITY_FORMAT='OMP: pid %P tid %i thread %n bound to OS proc set {%A}'\n",
      "   OMP_ALLOCATOR=omp_default_mem_alloc\n",
      "   OMP_CANCELLATION=false\n",
      "   OMP_DEFAULT_DEVICE=0\n",
      "   OMP_DISPLAY_AFFINITY=false\n",
      "   OMP_DISPLAY_ENV=false\n",
      "   OMP_DYNAMIC=false\n",
      "   OMP_MAX_ACTIVE_LEVELS=1\n",
      "   OMP_MAX_TASK_PRIORITY=0\n",
      "   OMP_NESTED: deprecated; max-active-levels-var=1\n",
      "   OMP_NUM_THREADS: value is not defined\n",
      "   OMP_PLACES: value is not defined\n",
      "   OMP_PROC_BIND='intel'\n",
      "   OMP_SCHEDULE='static'\n",
      "   OMP_STACKSIZE=8M\n",
      "   OMP_TARGET_OFFLOAD=DEFAULT\n",
      "   OMP_THREAD_LIMIT=2147483647\n",
      "   OMP_WAIT_POLICY=PASSIVE\n",
      "   KMP_AFFINITY='verbose,warnings,respect,granularity=fine,compact,1,0'\n",
      "\n",
      "2021-11-22 23:59:03.721861: I tensorflow/core/common_runtime/process_util.cc:146] Creating new thread pool with default inter op setting: 2. Tune using inter_op_parallelism_threads for best performance.\n"
     ]
    }
   ],
   "source": [
    "# Basic RNN \n",
    "model = Sequential()\n",
    "model.add(Embedding(len(word_index) + 1,\n",
    "                    50,     # embeds it in a 50-dimensional vector\n",
    "                    input_length=max_len))\n",
    "model.add(SimpleRNN(100))\n",
    "model.add(Dense(1, activation='sigmoid'))\n",
    "model.compile(loss='binary_crossentropy', optimizer='adam', metrics=['accuracy'])\n",
    "\n",
    "model.summary()"
   ]
  },
  {
   "cell_type": "code",
   "execution_count": 16,
   "id": "b1763177",
   "metadata": {
    "execution": {
     "iopub.execute_input": "2021-11-22T23:59:03.994191Z",
     "iopub.status.busy": "2021-11-22T23:59:03.993185Z",
     "iopub.status.idle": "2021-11-22T23:59:39.016892Z",
     "shell.execute_reply": "2021-11-22T23:59:39.016202Z"
    },
    "papermill": {
     "duration": 35.054544,
     "end_time": "2021-11-22T23:59:39.017046",
     "exception": false,
     "start_time": "2021-11-22T23:59:03.962502",
     "status": "completed"
    },
    "tags": []
   },
   "outputs": [
    {
     "name": "stderr",
     "output_type": "stream",
     "text": [
      "2021-11-22 23:59:04.057263: I tensorflow/compiler/mlir/mlir_graph_optimization_pass.cc:185] None of the MLIR Optimization Passes are enabled (registered 2)\n"
     ]
    },
    {
     "name": "stdout",
     "output_type": "stream",
     "text": [
      "Epoch 1/5\n",
      "36/36 [==============================] - 8s 179ms/step - loss: 0.4909 - accuracy: 0.8037\n",
      "Epoch 2/5\n",
      "36/36 [==============================] - 6s 178ms/step - loss: 0.4540 - accuracy: 0.8186\n",
      "Epoch 3/5\n",
      "36/36 [==============================] - 6s 180ms/step - loss: 0.4194 - accuracy: 0.8241\n",
      "Epoch 4/5\n",
      "36/36 [==============================] - 7s 206ms/step - loss: 0.4685 - accuracy: 0.7890\n",
      "Epoch 5/5\n",
      "36/36 [==============================] - 7s 185ms/step - loss: 0.3560 - accuracy: 0.8452\n"
     ]
    },
    {
     "data": {
      "text/plain": [
       "<keras.callbacks.History at 0x7fd8ad41bb10>"
      ]
     },
     "execution_count": 16,
     "metadata": {},
     "output_type": "execute_result"
    }
   ],
   "source": [
    "batch_size = 512\n",
    "\n",
    "model.fit(X_train_pad, y_train, epochs=5, batch_size=batch_size)"
   ]
  },
  {
   "cell_type": "code",
   "execution_count": 17,
   "id": "c10c8f78",
   "metadata": {
    "execution": {
     "iopub.execute_input": "2021-11-22T23:59:39.194964Z",
     "iopub.status.busy": "2021-11-22T23:59:39.194290Z",
     "iopub.status.idle": "2021-11-22T23:59:42.757084Z",
     "shell.execute_reply": "2021-11-22T23:59:42.756360Z"
    },
    "papermill": {
     "duration": 3.654302,
     "end_time": "2021-11-22T23:59:42.757297",
     "exception": false,
     "start_time": "2021-11-22T23:59:39.102995",
     "status": "completed"
    },
    "tags": []
   },
   "outputs": [
    {
     "name": "stdout",
     "output_type": "stream",
     "text": [
      "AUC: 0.71%\n"
     ]
    }
   ],
   "source": [
    "scores = model.predict(X_test_pad)\n",
    "print(\"AUC: %.2f%%\" % (roc_auc(scores,y_test)))"
   ]
  },
  {
   "cell_type": "markdown",
   "id": "be992803",
   "metadata": {
    "papermill": {
     "duration": 0.086474,
     "end_time": "2021-11-22T23:59:42.929955",
     "exception": false,
     "start_time": "2021-11-22T23:59:42.843481",
     "status": "completed"
    },
    "tags": []
   },
   "source": [
    "# LSTM's"
   ]
  },
  {
   "cell_type": "code",
   "execution_count": 18,
   "id": "82514282",
   "metadata": {
    "execution": {
     "iopub.execute_input": "2021-11-22T23:59:43.174915Z",
     "iopub.status.busy": "2021-11-22T23:59:43.173898Z",
     "iopub.status.idle": "2021-11-22T23:59:43.336037Z",
     "shell.execute_reply": "2021-11-22T23:59:43.335229Z"
    },
    "papermill": {
     "duration": 0.255806,
     "end_time": "2021-11-22T23:59:43.336233",
     "exception": false,
     "start_time": "2021-11-22T23:59:43.080427",
     "status": "completed"
    },
    "tags": []
   },
   "outputs": [
    {
     "name": "stdout",
     "output_type": "stream",
     "text": [
      "Model: \"sequential_1\"\n",
      "_________________________________________________________________\n",
      "Layer (type)                 Output Shape              Param #   \n",
      "=================================================================\n",
      "embedding_1 (Embedding)      (None, 112, 50)           1022500   \n",
      "_________________________________________________________________\n",
      "lstm (LSTM)                  (None, 100)               60400     \n",
      "_________________________________________________________________\n",
      "dense_1 (Dense)              (None, 1)                 101       \n",
      "=================================================================\n",
      "Total params: 1,083,001\n",
      "Trainable params: 1,083,001\n",
      "Non-trainable params: 0\n",
      "_________________________________________________________________\n"
     ]
    }
   ],
   "source": [
    "model = Sequential()\n",
    "model.add(Embedding(len(word_index) + 1,\n",
    "                    50,     # embeds it in a 50-dimensional vector\n",
    "                    input_length=max_len))\n",
    "\n",
    "model.add(LSTM(100, dropout=0.3, recurrent_dropout=0.3))\n",
    "model.add(Dense(1, activation='sigmoid'))\n",
    "model.compile(loss='binary_crossentropy', optimizer='adam',metrics=['accuracy'])\n",
    "    \n",
    "model.summary()"
   ]
  },
  {
   "cell_type": "code",
   "execution_count": 19,
   "id": "6eae9adc",
   "metadata": {
    "execution": {
     "iopub.execute_input": "2021-11-22T23:59:43.514350Z",
     "iopub.status.busy": "2021-11-22T23:59:43.513283Z",
     "iopub.status.idle": "2021-11-23T00:03:02.858496Z",
     "shell.execute_reply": "2021-11-23T00:03:02.857834Z"
    },
    "papermill": {
     "duration": 199.435857,
     "end_time": "2021-11-23T00:03:02.858654",
     "exception": false,
     "start_time": "2021-11-22T23:59:43.422797",
     "status": "completed"
    },
    "tags": []
   },
   "outputs": [
    {
     "name": "stdout",
     "output_type": "stream",
     "text": [
      "Epoch 1/5\n",
      "36/36 [==============================] - 44s 1s/step - loss: 0.5233 - accuracy: 0.8107\n",
      "Epoch 2/5\n",
      "36/36 [==============================] - 39s 1s/step - loss: 0.3653 - accuracy: 0.8315\n",
      "Epoch 3/5\n",
      "36/36 [==============================] - 40s 1s/step - loss: 0.2431 - accuracy: 0.8944\n",
      "Epoch 4/5\n",
      "36/36 [==============================] - 39s 1s/step - loss: 0.2009 - accuracy: 0.9173\n",
      "Epoch 5/5\n",
      "36/36 [==============================] - 38s 1s/step - loss: 0.1708 - accuracy: 0.9301\n"
     ]
    },
    {
     "data": {
      "text/plain": [
       "<keras.callbacks.History at 0x7fd88dd9b850>"
      ]
     },
     "execution_count": 19,
     "metadata": {},
     "output_type": "execute_result"
    }
   ],
   "source": [
    "batch_size = 512\n",
    "\n",
    "model.fit(X_train_pad, y_train, epochs=5, batch_size=batch_size)"
   ]
  },
  {
   "cell_type": "code",
   "execution_count": 20,
   "id": "720fb5cc",
   "metadata": {
    "execution": {
     "iopub.execute_input": "2021-11-23T00:03:03.155571Z",
     "iopub.status.busy": "2021-11-23T00:03:03.154924Z",
     "iopub.status.idle": "2021-11-23T00:03:14.487407Z",
     "shell.execute_reply": "2021-11-23T00:03:14.486770Z"
    },
    "papermill": {
     "duration": 11.480627,
     "end_time": "2021-11-23T00:03:14.487566",
     "exception": false,
     "start_time": "2021-11-23T00:03:03.006939",
     "status": "completed"
    },
    "tags": []
   },
   "outputs": [
    {
     "name": "stdout",
     "output_type": "stream",
     "text": [
      "AUC: 0.92%\n"
     ]
    }
   ],
   "source": [
    "scores = model.predict(X_test_pad)\n",
    "print(\"AUC: %.2f%%\" % (roc_auc(scores,y_test)))"
   ]
  }
 ],
 "metadata": {
  "kernelspec": {
   "display_name": "Python 3 (ipykernel)",
   "language": "python",
   "name": "python3"
  },
  "language_info": {
   "codemirror_mode": {
    "name": "ipython",
    "version": 3
   },
   "file_extension": ".py",
   "mimetype": "text/x-python",
   "name": "python",
   "nbconvert_exporter": "python",
   "pygments_lexer": "ipython3",
   "version": "3.9.13"
  },
  "papermill": {
   "default_parameters": {},
   "duration": 276.755032,
   "end_time": "2021-11-23T00:03:17.766572",
   "environment_variables": {},
   "exception": null,
   "input_path": "__notebook__.ipynb",
   "output_path": "__notebook__.ipynb",
   "parameters": {},
   "start_time": "2021-11-22T23:58:41.011540",
   "version": "2.3.3"
  }
 },
 "nbformat": 4,
 "nbformat_minor": 5
}
